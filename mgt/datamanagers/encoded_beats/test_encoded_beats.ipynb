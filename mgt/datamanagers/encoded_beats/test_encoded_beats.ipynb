{
  "nbformat": 4,
  "nbformat_minor": 0,
  "metadata": {
    "accelerator": "GPU",
    "colab": {
      "name": "compound_word_transformer_pop909.ipynb",
      "provenance": [],
      "collapsed_sections": []
    },
    "kernelspec": {
      "display_name": "Python 3",
      "name": "python3"
    },
    "language_info": {
      "name": "python"
    }
  },
  "cells": [
    {
      "cell_type": "code",
      "metadata": {
        "colab": {
          "base_uri": "https://localhost:8080/"
        },
        "id": "DzRthmzTUL-0",
        "outputId": "3fc84acd-7d0d-46aa-e46f-1547d4c0850d"
      },
      "source": [
        "!nvidia-smi\n",
        "!pip install x-transformers"
      ],
      "execution_count": 1,
      "outputs": [
        {
          "output_type": "stream",
          "name": "stdout",
          "text": [
            "Mon Dec 13 21:52:16 2021       \n",
            "+-----------------------------------------------------------------------------+\n",
            "| NVIDIA-SMI 495.44       Driver Version: 460.32.03    CUDA Version: 11.2     |\n",
            "|-------------------------------+----------------------+----------------------+\n",
            "| GPU  Name        Persistence-M| Bus-Id        Disp.A | Volatile Uncorr. ECC |\n",
            "| Fan  Temp  Perf  Pwr:Usage/Cap|         Memory-Usage | GPU-Util  Compute M. |\n",
            "|                               |                      |               MIG M. |\n",
            "|===============================+======================+======================|\n",
            "|   0  Tesla K80           Off  | 00000000:00:04.0 Off |                    0 |\n",
            "| N/A   35C    P8    26W / 149W |      0MiB / 11441MiB |      0%      Default |\n",
            "|                               |                      |                  N/A |\n",
            "+-------------------------------+----------------------+----------------------+\n",
            "                                                                               \n",
            "+-----------------------------------------------------------------------------+\n",
            "| Processes:                                                                  |\n",
            "|  GPU   GI   CI        PID   Type   Process name                  GPU Memory |\n",
            "|        ID   ID                                                   Usage      |\n",
            "|=============================================================================|\n",
            "|  No running processes found                                                 |\n",
            "+-----------------------------------------------------------------------------+\n",
            "Collecting x-transformers\n",
            "  Downloading x_transformers-0.22.0-py3-none-any.whl (14 kB)\n",
            "Collecting entmax\n",
            "  Downloading entmax-1.0.tar.gz (7.2 kB)\n",
            "Requirement already satisfied: torch>=1.6 in /usr/local/lib/python3.7/dist-packages (from x-transformers) (1.10.0+cu111)\n",
            "Collecting einops>=0.3\n",
            "  Downloading einops-0.3.2-py3-none-any.whl (25 kB)\n",
            "Requirement already satisfied: typing-extensions in /usr/local/lib/python3.7/dist-packages (from torch>=1.6->x-transformers) (3.10.0.2)\n",
            "Building wheels for collected packages: entmax\n",
            "  Building wheel for entmax (setup.py) ... \u001b[?25l\u001b[?25hdone\n",
            "  Created wheel for entmax: filename=entmax-1.0-py3-none-any.whl size=11015 sha256=79aee7de26093dfc86397d12d4f6c8a42b2cb42fbc591b56b6bbf78a6beac82e\n",
            "  Stored in directory: /root/.cache/pip/wheels/f7/e8/0d/acc29c2f66e69a1f42483347fa8545c293dec12325ee161716\n",
            "Successfully built entmax\n",
            "Installing collected packages: entmax, einops, x-transformers\n",
            "Successfully installed einops-0.3.2 entmax-1.0 x-transformers-0.22.0\n"
          ]
        }
      ]
    },
    {
      "cell_type": "code",
      "metadata": {
        "colab": {
          "base_uri": "https://localhost:8080/"
        },
        "id": "lDSvIj_6UIiy",
        "outputId": "ca5a9331-1db5-410c-d692-7e491f4b57ce"
      },
      "source": [
        "!git clone https://github.com/wingedsheep/music-generation-toolbox"
      ],
      "execution_count": 2,
      "outputs": [
        {
          "output_type": "stream",
          "name": "stdout",
          "text": [
            "Cloning into 'music-generation-toolbox'...\n",
            "remote: Enumerating objects: 1441, done.\u001b[K\n",
            "remote: Counting objects: 100% (533/533), done.\u001b[K\n",
            "remote: Compressing objects: 100% (341/341), done.\u001b[K\n",
            "remote: Total 1441 (delta 367), reused 340 (delta 188), pack-reused 908\u001b[K\n",
            "Receiving objects: 100% (1441/1441), 8.54 MiB | 23.31 MiB/s, done.\n",
            "Resolving deltas: 100% (941/941), done.\n"
          ]
        }
      ]
    },
    {
      "cell_type": "code",
      "metadata": {
        "colab": {
          "base_uri": "https://localhost:8080/"
        },
        "id": "4sjvg6vJIBTs",
        "outputId": "7bbb9bf4-098d-4966-8f56-8f1d92997ff9"
      },
      "source": [
        "from google.colab import drive\n",
        "drive.mount('/content/drive')"
      ],
      "execution_count": null,
      "outputs": [
        {
          "output_type": "stream",
          "name": "stdout",
          "text": [
            "Mounted at /content/drive\n"
          ]
        }
      ]
    },
    {
      "cell_type": "code",
      "metadata": {
        "id": "uuUcGoRFUOTc",
        "colab": {
          "base_uri": "https://localhost:8080/"
        },
        "outputId": "1fb0fefa-86ad-4181-b83b-c44ac4ab1e89"
      },
      "source": [
        "!pip install pretty_midi\n",
        "!pip install sequitur"
      ],
      "execution_count": 3,
      "outputs": [
        {
          "output_type": "stream",
          "name": "stdout",
          "text": [
            "Collecting pretty_midi\n",
            "  Downloading pretty_midi-0.2.9.tar.gz (5.6 MB)\n",
            "\u001b[K     |████████████████████████████████| 5.6 MB 5.4 MB/s \n",
            "\u001b[?25hRequirement already satisfied: numpy>=1.7.0 in /usr/local/lib/python3.7/dist-packages (from pretty_midi) (1.19.5)\n",
            "Collecting mido>=1.1.16\n",
            "  Downloading mido-1.2.10-py2.py3-none-any.whl (51 kB)\n",
            "\u001b[K     |████████████████████████████████| 51 kB 6.8 MB/s \n",
            "\u001b[?25hRequirement already satisfied: six in /usr/local/lib/python3.7/dist-packages (from pretty_midi) (1.15.0)\n",
            "Building wheels for collected packages: pretty-midi\n",
            "  Building wheel for pretty-midi (setup.py) ... \u001b[?25l\u001b[?25hdone\n",
            "  Created wheel for pretty-midi: filename=pretty_midi-0.2.9-py3-none-any.whl size=5591953 sha256=cf19fa4128673cd6c5b53f7fae89e509834259e34aa35a3efce9c03d00934f5b\n",
            "  Stored in directory: /root/.cache/pip/wheels/ad/74/7c/a06473ca8dcb63efb98c1e67667ce39d52100f837835ea18fa\n",
            "Successfully built pretty-midi\n",
            "Installing collected packages: mido, pretty-midi\n",
            "Successfully installed mido-1.2.10 pretty-midi-0.2.9\n",
            "Collecting sequitur\n",
            "  Downloading sequitur-1.2.4.tar.gz (11 kB)\n",
            "Requirement already satisfied: torch in /usr/local/lib/python3.7/dist-packages (from sequitur) (1.10.0+cu111)\n",
            "Requirement already satisfied: typing-extensions in /usr/local/lib/python3.7/dist-packages (from torch->sequitur) (3.10.0.2)\n",
            "Building wheels for collected packages: sequitur\n",
            "  Building wheel for sequitur (setup.py) ... \u001b[?25l\u001b[?25hdone\n",
            "  Created wheel for sequitur: filename=sequitur-1.2.4-py3-none-any.whl size=9627 sha256=af7f5550e0dffba305b25d56d6d1b7ad3c02f358a5962d85d0c72d4e44ad006d\n",
            "  Stored in directory: /root/.cache/pip/wheels/a6/72/17/d63e70847cd9e9ee2d14d3a023ca2569a3be8330ac20918ea6\n",
            "Successfully built sequitur\n",
            "Installing collected packages: sequitur\n",
            "Successfully installed sequitur-1.2.4\n"
          ]
        }
      ]
    },
    {
      "cell_type": "code",
      "metadata": {
        "id": "geBg0HbuUQRk",
        "colab": {
          "base_uri": "https://localhost:8080/"
        },
        "outputId": "813374b6-5f69-4950-be8d-332d04dbb906"
      },
      "source": [
        "%cd music-generation-toolbox/"
      ],
      "execution_count": 4,
      "outputs": [
        {
          "output_type": "stream",
          "name": "stdout",
          "text": [
            "/content/music-generation-toolbox\n"
          ]
        }
      ]
    },
    {
      "cell_type": "code",
      "source": [
        "!git checkout feature/encoded_beats"
      ],
      "metadata": {
        "colab": {
          "base_uri": "https://localhost:8080/"
        },
        "id": "4HTSVCeVd_YW",
        "outputId": "6cc62d3f-0892-4e76-ced9-2daf59918a93"
      },
      "execution_count": 5,
      "outputs": [
        {
          "output_type": "stream",
          "name": "stdout",
          "text": [
            "Branch 'feature/encoded_beats' set up to track remote branch 'feature/encoded_beats' from 'origin'.\n",
            "Switched to a new branch 'feature/encoded_beats'\n"
          ]
        }
      ]
    },
    {
      "cell_type": "code",
      "metadata": {
        "id": "toBwyS7CKrNt"
      },
      "source": [
        "from pretty_midi import pretty_midi\n",
        "\n",
        "from mgt.datamanagers.encoded_beats.beat_data_extractor import BeatDataExtractor\n",
        "from mgt.models.encoded_beats_model import EncodedBeatsModel"
      ],
      "execution_count": 7,
      "outputs": []
    },
    {
      "cell_type": "code",
      "source": [
        "data_extractor = BeatDataExtractor()\n",
        "midi_path = '/content/californication_4_tracks.mid'\n",
        "midi_data = pretty_midi.PrettyMIDI(midi_path)\n",
        "beats_matrices = data_extractor.extract_beats(midi_data)"
      ],
      "metadata": {
        "colab": {
          "base_uri": "https://localhost:8080/"
        },
        "id": "6Lc-jhajyQG_",
        "outputId": "31b7e6f3-bfb8-4368-b42d-ab10b8d85925"
      },
      "execution_count": 8,
      "outputs": [
        {
          "output_type": "stream",
          "name": "stderr",
          "text": [
            "/usr/local/lib/python3.7/dist-packages/pretty_midi/pretty_midi.py:101: RuntimeWarning: Tempo, Key or Time signature change events found on non-zero tracks.  This is not a valid type 0 or type 1 MIDI file.  Tempo, Key or Time Signature may be wrong.\n",
            "  RuntimeWarning)\n"
          ]
        },
        {
          "output_type": "stream",
          "name": "stdout",
          "text": [
            "Created a matrix with shape (508, 2048)\n"
          ]
        }
      ]
    },
    {
      "cell_type": "code",
      "source": [
        "restored_beats_matrices = beats_matrices.reshape(len(beats_matrices), 4, 4, 128)"
      ],
      "metadata": {
        "id": "vXvxmKmz01jI"
      },
      "execution_count": 23,
      "outputs": []
    },
    {
      "cell_type": "code",
      "source": [
        "notes = []\n",
        "\n",
        "for beat_index, beat in enumerate(restored_beats_matrices):\n",
        "  for sub_beat_index, sub_beat in enumerate(beat):\n",
        "    for instrument_index, instrument in enumerate(sub_beat):\n",
        "      for pitch_index, pitch in enumerate(instrument):\n",
        "        if pitch == 1:\n",
        "          notes.append({'instrument': instrument_index, 'pitch': pitch_index, 'time': beat_index * 4 + sub_beat_index, 'type': 'on'})\n",
        "        elif pitch == 2:\n",
        "          notes.append({'instrument': instrument_index, 'pitch': pitch_index, 'time': beat_index * 4 + sub_beat_index, 'type': 'off'})\n",
        "        \n",
        "sorted_notes = sorted(notes, key=lambda x: (x['instrument'], x['time']))\n",
        "\n",
        "midi = pretty_midi.PrettyMIDI()\n",
        "\n",
        "instruments = [\n",
        "      pretty_midi.Instrument(program=27),\n",
        "      pretty_midi.Instrument(program=70),\n",
        "      pretty_midi.Instrument(program=33),\n",
        "      pretty_midi.Instrument(program=0, is_drum=True)         \n",
        "]\n",
        "\n",
        "for instrument in instruments:\n",
        "  midi.instruments.append(instrument)\n",
        "\n",
        "for note in sorted_notes:\n",
        "  instrument = instruments[note['instrument']]\n",
        "  end_time = note['time'] * (0.5 / 4) + (0.5 * 4)\n",
        "  midi_note = pretty_midi.Note(\n",
        "      velocity=64,\n",
        "      pitch=note['pitch'],\n",
        "      start=note['time'] * (0.5 / 4),\n",
        "      end=end_time\n",
        "  )\n",
        "  instrument.notes.append(midi_note)\n",
        "\n",
        "midi.write('/content/test_output.midi')\n"
      ],
      "metadata": {
        "id": "WsQZ7xpS08dH"
      },
      "execution_count": 45,
      "outputs": []
    },
    {
      "cell_type": "code",
      "source": [
        "# encoded_beats_model = EncodedBeatsModel()\n",
        "# encoded_beats_model.auto_encoder.train(beats_matrices, 2000)\n",
        "encoded_beats_model.train([beats_matrices], epochs=50, batch_size=12)\n",
        "result = encoded_beats_model.generate(output_length=200)"
      ],
      "metadata": {
        "colab": {
          "base_uri": "https://localhost:8080/"
        },
        "id": "IxsDp0tEyTXc",
        "outputId": "653123f0-d463-4f58-8ba7-82c25917ae05"
      },
      "execution_count": 60,
      "outputs": [
        {
          "output_type": "stream",
          "name": "stdout",
          "text": [
            "Training epoch 1.\n",
            "Processed 1 / 1 with loss 0.01632019877433777.\n",
            "Loss after epoch 1 is 0.01632019877433777. Running time: 1.5952258110046387\n",
            "Training epoch 2.\n",
            "Processed 1 / 1 with loss 0.01632542908191681.\n",
            "Loss after epoch 2 is 0.01632542908191681. Running time: 3.1915838718414307\n",
            "Training epoch 3.\n",
            "Processed 1 / 1 with loss 0.016117189079523087.\n",
            "Loss after epoch 3 is 0.016117189079523087. Running time: 4.788671255111694\n",
            "Training epoch 4.\n",
            "Processed 1 / 1 with loss 0.016155365854501724.\n",
            "Loss after epoch 4 is 0.016155365854501724. Running time: 6.387181758880615\n",
            "Training epoch 5.\n",
            "Processed 1 / 1 with loss 0.016010625287890434.\n",
            "Loss after epoch 5 is 0.016010625287890434. Running time: 7.984698057174683\n",
            "Training epoch 6.\n",
            "Processed 1 / 1 with loss 0.01563827134668827.\n",
            "Loss after epoch 6 is 0.01563827134668827. Running time: 9.583722829818726\n",
            "Training epoch 7.\n",
            "Processed 1 / 1 with loss 0.015725623816251755.\n",
            "Loss after epoch 7 is 0.015725623816251755. Running time: 11.178402423858643\n",
            "Training epoch 8.\n",
            "Processed 1 / 1 with loss 0.015527368523180485.\n",
            "Loss after epoch 8 is 0.015527368523180485. Running time: 12.780604124069214\n",
            "Training epoch 9.\n",
            "Processed 1 / 1 with loss 0.01525474339723587.\n",
            "Loss after epoch 9 is 0.01525474339723587. Running time: 14.382307052612305\n",
            "Training epoch 10.\n",
            "Processed 1 / 1 with loss 0.015172491781413555.\n",
            "Loss after epoch 10 is 0.015172491781413555. Running time: 15.98165774345398\n",
            "Training epoch 11.\n",
            "Processed 1 / 1 with loss 0.015114614740014076.\n",
            "Loss after epoch 11 is 0.015114614740014076. Running time: 17.580012798309326\n",
            "Training epoch 12.\n",
            "Processed 1 / 1 with loss 0.015174288302659988.\n",
            "Loss after epoch 12 is 0.015174288302659988. Running time: 19.180668592453003\n",
            "Training epoch 13.\n",
            "Processed 1 / 1 with loss 0.01498418115079403.\n",
            "Loss after epoch 13 is 0.01498418115079403. Running time: 20.785882234573364\n",
            "Training epoch 14.\n",
            "Processed 1 / 1 with loss 0.014880489557981491.\n",
            "Loss after epoch 14 is 0.014880489557981491. Running time: 22.381258487701416\n",
            "Training epoch 15.\n",
            "Processed 1 / 1 with loss 0.01489095389842987.\n",
            "Loss after epoch 15 is 0.01489095389842987. Running time: 23.980247020721436\n",
            "Training epoch 16.\n",
            "Processed 1 / 1 with loss 0.01466781459748745.\n",
            "Loss after epoch 16 is 0.01466781459748745. Running time: 25.578444957733154\n",
            "Training epoch 17.\n",
            "Processed 1 / 1 with loss 0.014528574422001839.\n",
            "Loss after epoch 17 is 0.014528574422001839. Running time: 27.190337657928467\n",
            "Training epoch 18.\n",
            "Processed 1 / 1 with loss 0.014479396864771843.\n",
            "Loss after epoch 18 is 0.014479396864771843. Running time: 28.787607431411743\n",
            "Training epoch 19.\n",
            "Processed 1 / 1 with loss 0.014308917336165905.\n",
            "Loss after epoch 19 is 0.014308917336165905. Running time: 30.391005992889404\n",
            "Training epoch 20.\n",
            "Processed 1 / 1 with loss 0.01429985836148262.\n",
            "Loss after epoch 20 is 0.01429985836148262. Running time: 31.996116638183594\n",
            "Training epoch 21.\n",
            "Processed 1 / 1 with loss 0.014222624711692333.\n",
            "Loss after epoch 21 is 0.014222624711692333. Running time: 33.59799909591675\n",
            "Training epoch 22.\n",
            "Processed 1 / 1 with loss 0.014058713801205158.\n",
            "Loss after epoch 22 is 0.014058713801205158. Running time: 35.19996356964111\n",
            "Training epoch 23.\n",
            "Processed 1 / 1 with loss 0.014047598466277122.\n",
            "Loss after epoch 23 is 0.014047598466277122. Running time: 36.800899028778076\n",
            "Training epoch 24.\n",
            "Processed 1 / 1 with loss 0.014127855189144611.\n",
            "Loss after epoch 24 is 0.014127855189144611. Running time: 38.39928603172302\n",
            "Training epoch 25.\n",
            "Processed 1 / 1 with loss 0.014026296325027943.\n",
            "Loss after epoch 25 is 0.014026296325027943. Running time: 40.003897190093994\n",
            "Training epoch 26.\n",
            "Processed 1 / 1 with loss 0.013819441199302673.\n",
            "Loss after epoch 26 is 0.013819441199302673. Running time: 41.601322889328\n",
            "Training epoch 27.\n",
            "Processed 1 / 1 with loss 0.013690713793039322.\n",
            "Loss after epoch 27 is 0.013690713793039322. Running time: 43.20064949989319\n",
            "Training epoch 28.\n",
            "Processed 1 / 1 with loss 0.013654181733727455.\n",
            "Loss after epoch 28 is 0.013654181733727455. Running time: 44.805397033691406\n",
            "Training epoch 29.\n",
            "Processed 1 / 1 with loss 0.013628949411213398.\n",
            "Loss after epoch 29 is 0.013628949411213398. Running time: 46.407079458236694\n",
            "Training epoch 30.\n",
            "Processed 1 / 1 with loss 0.013727310113608837.\n",
            "Loss after epoch 30 is 0.013727310113608837. Running time: 48.006223917007446\n",
            "Training epoch 31.\n",
            "Processed 1 / 1 with loss 0.013769511133432388.\n",
            "Loss after epoch 31 is 0.013769511133432388. Running time: 49.605435371398926\n",
            "Training epoch 32.\n",
            "Processed 1 / 1 with loss 0.013542999513447285.\n",
            "Loss after epoch 32 is 0.013542999513447285. Running time: 51.206968545913696\n",
            "Training epoch 33.\n",
            "Processed 1 / 1 with loss 0.013232901692390442.\n",
            "Loss after epoch 33 is 0.013232901692390442. Running time: 52.80219602584839\n",
            "Training epoch 34.\n",
            "Processed 1 / 1 with loss 0.013171396218240261.\n",
            "Loss after epoch 34 is 0.013171396218240261. Running time: 54.39326286315918\n",
            "Training epoch 35.\n",
            "Processed 1 / 1 with loss 0.013206232339143753.\n",
            "Loss after epoch 35 is 0.013206232339143753. Running time: 55.98247933387756\n",
            "Training epoch 36.\n",
            "Processed 1 / 1 with loss 0.01329632755368948.\n",
            "Loss after epoch 36 is 0.01329632755368948. Running time: 57.564709186553955\n",
            "Training epoch 37.\n",
            "Processed 1 / 1 with loss 0.013262169435620308.\n",
            "Loss after epoch 37 is 0.013262169435620308. Running time: 59.15830111503601\n",
            "Training epoch 38.\n",
            "Processed 1 / 1 with loss 0.01314313244074583.\n",
            "Loss after epoch 38 is 0.01314313244074583. Running time: 60.739094257354736\n",
            "Training epoch 39.\n",
            "Processed 1 / 1 with loss 0.012783190235495567.\n",
            "Loss after epoch 39 is 0.012783190235495567. Running time: 62.32399106025696\n",
            "Training epoch 40.\n",
            "Processed 1 / 1 with loss 0.012682141736149788.\n",
            "Loss after epoch 40 is 0.012682141736149788. Running time: 63.902066707611084\n",
            "Training epoch 41.\n",
            "Processed 1 / 1 with loss 0.012776483781635761.\n",
            "Loss after epoch 41 is 0.012776483781635761. Running time: 65.48482275009155\n",
            "Training epoch 42.\n",
            "Processed 1 / 1 with loss 0.012821810320019722.\n",
            "Loss after epoch 42 is 0.012821810320019722. Running time: 67.05877542495728\n",
            "Training epoch 43.\n",
            "Processed 1 / 1 with loss 0.012735029682517052.\n",
            "Loss after epoch 43 is 0.012735029682517052. Running time: 68.63868856430054\n",
            "Training epoch 44.\n",
            "Processed 1 / 1 with loss 0.01263156533241272.\n",
            "Loss after epoch 44 is 0.01263156533241272. Running time: 70.22056031227112\n",
            "Training epoch 45.\n",
            "Processed 1 / 1 with loss 0.01234729029238224.\n",
            "Loss after epoch 45 is 0.01234729029238224. Running time: 71.80433464050293\n",
            "Training epoch 46.\n",
            "Processed 1 / 1 with loss 0.012292721308767796.\n",
            "Loss after epoch 46 is 0.012292721308767796. Running time: 73.38268518447876\n",
            "Training epoch 47.\n",
            "Processed 1 / 1 with loss 0.012236478738486767.\n",
            "Loss after epoch 47 is 0.012236478738486767. Running time: 74.96301865577698\n",
            "Training epoch 48.\n",
            "Processed 1 / 1 with loss 0.012234515510499477.\n",
            "Loss after epoch 48 is 0.012234515510499477. Running time: 76.54818367958069\n",
            "Training epoch 49.\n",
            "Processed 1 / 1 with loss 0.012180131860077381.\n",
            "Loss after epoch 49 is 0.012180131860077381. Running time: 78.13013124465942\n",
            "Training epoch 50.\n",
            "Processed 1 / 1 with loss 0.01206128392368555.\n",
            "Loss after epoch 50 is 0.01206128392368555. Running time: 79.71077060699463\n",
            "Generating a new song with 200 beats.\n"
          ]
        }
      ]
    },
    {
      "cell_type": "code",
      "source": [
        "import numpy as np\n",
        "\n",
        "print(np.array(result).shape)"
      ],
      "metadata": {
        "id": "T6GAFOZeNkRx",
        "outputId": "8431934e-2613-4a93-e165-0034487ff286",
        "colab": {
          "base_uri": "https://localhost:8080/"
        }
      },
      "execution_count": 12,
      "outputs": [
        {
          "output_type": "stream",
          "name": "stdout",
          "text": [
            "(20, 2048)\n"
          ]
        }
      ]
    },
    {
      "cell_type": "code",
      "source": [
        "reshaped = np.array(result).reshape(len(result), len(data_extractor.instruments), data_extractor.beat_resolution, 128)\n",
        "print(reshaped.shape)"
      ],
      "metadata": {
        "colab": {
          "base_uri": "https://localhost:8080/"
        },
        "id": "XVeNdXiey4ZH",
        "outputId": "05fb7541-9b71-4e05-e8f5-33588f658465"
      },
      "execution_count": 61,
      "outputs": [
        {
          "output_type": "stream",
          "name": "stdout",
          "text": [
            "(200, 4, 4, 128)\n"
          ]
        }
      ]
    },
    {
      "cell_type": "code",
      "source": [
        "notes = []\n",
        "\n",
        "for beat_index, beat in enumerate(reshaped):\n",
        "  for sub_beat_index, sub_beat in enumerate(beat):\n",
        "    for instrument_index, instrument in enumerate(sub_beat):\n",
        "      for pitch_index, pitch in enumerate(instrument):\n",
        "        if pitch == 1:\n",
        "          notes.append({'instrument': instrument_index, 'pitch': pitch_index, 'time': beat_index * 4 + sub_beat_index, 'type': 'on'})\n",
        "        elif pitch == 2:\n",
        "          notes.append({'instrument': instrument_index, 'pitch': pitch_index, 'time': beat_index * 4 + sub_beat_index, 'type': 'off'})\n",
        "        \n",
        "sorted_notes = sorted(notes, key=lambda x: (x['instrument'], x['time']))\n",
        "\n",
        "midi = pretty_midi.PrettyMIDI()\n",
        "\n",
        "instruments = [\n",
        "      pretty_midi.Instrument(program=27),\n",
        "      pretty_midi.Instrument(program=70),\n",
        "      pretty_midi.Instrument(program=33),\n",
        "      pretty_midi.Instrument(program=0, is_drum=True)         \n",
        "]\n",
        "\n",
        "for instrument in instruments:\n",
        "  midi.instruments.append(instrument)\n",
        "\n",
        "for note in sorted_notes:\n",
        "  instrument = instruments[note['instrument']]\n",
        "  end_time = note['time'] * (0.5 / 4) + (0.5 * 4)\n",
        "  midi_note = pretty_midi.Note(\n",
        "      velocity=64,\n",
        "      pitch=note['pitch'],\n",
        "      start=note['time'] * (0.5 / 4),\n",
        "      end=end_time\n",
        "  )\n",
        "  instrument.notes.append(midi_note)\n",
        "\n",
        "midi.write('/content/test_output.midi')"
      ],
      "metadata": {
        "id": "iacbwxCTzlBo"
      },
      "execution_count": 62,
      "outputs": []
    },
    {
      "cell_type": "code",
      "source": [
        "midi_path2 = '/content/test.mid'\n",
        "midi_data2 = pretty_midi.PrettyMIDI(midi_path2)"
      ],
      "metadata": {
        "colab": {
          "base_uri": "https://localhost:8080/"
        },
        "id": "6qMOFZEh45Ki",
        "outputId": "e254e863-8fc2-4dbc-be0f-cedcb2a7d835"
      },
      "execution_count": 35,
      "outputs": [
        {
          "output_type": "stream",
          "name": "stderr",
          "text": [
            "/usr/local/lib/python3.7/dist-packages/pretty_midi/pretty_midi.py:101: RuntimeWarning: Tempo, Key or Time signature change events found on non-zero tracks.  This is not a valid type 0 or type 1 MIDI file.  Tempo, Key or Time Signature may be wrong.\n",
            "  RuntimeWarning)\n"
          ]
        }
      ]
    },
    {
      "cell_type": "code",
      "source": [
        "for instrument in midi_data2.instruments:\n",
        "  for note in instrument.notes:\n",
        "    print(note)"
      ],
      "metadata": {
        "colab": {
          "base_uri": "https://localhost:8080/"
        },
        "id": "Uk6NFvHO4-Hh",
        "outputId": "e3b272f1-1049-4156-a785-1efc69c8d20b"
      },
      "execution_count": 36,
      "outputs": [
        {
          "output_type": "stream",
          "name": "stdout",
          "text": [
            "Note(start=0.000000, end=0.473958, pitch=60, velocity=80)\n",
            "Note(start=0.500000, end=0.973958, pitch=60, velocity=80)\n",
            "Note(start=1.000000, end=1.473958, pitch=60, velocity=80)\n",
            "Note(start=1.500000, end=1.736458, pitch=60, velocity=80)\n",
            "Note(start=1.750000, end=1.986458, pitch=60, velocity=80)\n"
          ]
        }
      ]
    },
    {
      "cell_type": "code",
      "metadata": {
        "id": "ZE_N1rgfM0eE"
      },
      "source": [
        "data_manager = CompoundWordDataManager()"
      ],
      "execution_count": null,
      "outputs": []
    },
    {
      "cell_type": "code",
      "metadata": {
        "id": "wc-6_sPCu_06"
      },
      "source": [
        "model = CompoundWordTransformerModel.load_checkpoint(\"/content/drive/MyDrive/Music generation toolbox/Generated/2021-08-20 pop909 compound/model_3\")"
      ],
      "execution_count": null,
      "outputs": []
    },
    {
      "cell_type": "code",
      "metadata": {
        "id": "K2hWQSAXLeEa"
      },
      "source": [
        "model = CompoundWordTransformerModel(\n",
        "    max_sequence_length=512,\n",
        "    depth=12,\n",
        "    heads=6\n",
        ")"
      ],
      "execution_count": null,
      "outputs": []
    },
    {
      "cell_type": "code",
      "metadata": {
        "id": "EvIpI1-wquTe"
      },
      "source": [
        "from mgt.datamanagers.data_helper import DataHelper\n",
        "\n",
        "data = []\n",
        "\n",
        "data_paths = [\n",
        "  '/content/drive/MyDrive/Music generation toolbox/Input/Pop 909/pop909_compound_transposed2'\n",
        "]\n",
        "\n",
        "for data_path in data_paths:\n",
        "  new_data = DataHelper.load(data_path)\n",
        "  data.extend(new_data)"
      ],
      "execution_count": null,
      "outputs": []
    },
    {
      "cell_type": "code",
      "metadata": {
        "colab": {
          "base_uri": "https://localhost:8080/",
          "height": 1000
        },
        "id": "HdYdw-wYwOWj",
        "outputId": "679c5ff3-432c-4bc9-bee9-812158b7c7b3"
      },
      "source": [
        "import random\n",
        "\n",
        "for i in range(0, 200):\n",
        "  model.train(x_train=[data[2]], epochs=10, stop_loss=0.001, batch_size=10)\n",
        "  output = model.generate(1000)\n",
        "  midi = data_manager.to_midi(output)\n",
        "  midi.save(f\"/content/sample_{i}.midi\")"
      ],
      "execution_count": null,
      "outputs": [
        {
          "output_type": "stream",
          "name": "stdout",
          "text": [
            "Training epoch 1.\n",
            "Processed 20 / 100 with loss 1.9322932243347168.\n",
            "Processed 40 / 100 with loss 1.0992321908473968.\n",
            "Processed 60 / 100 with loss 0.9666453301906586.\n",
            "Processed 80 / 100 with loss 0.8689577668905258.\n",
            "Processed 100 / 100 with loss 0.736160370707512.\n",
            "Loss after epoch 1 is 1.1206577765941619. Running time: 24.214993238449097\n",
            "Training epoch 2.\n",
            "Processed 20 / 100 with loss 0.5804403841495513.\n",
            "Processed 40 / 100 with loss 0.43773161470890043.\n",
            "Processed 60 / 100 with loss 0.31507809907197953.\n",
            "Processed 80 / 100 with loss 0.22222747877240182.\n",
            "Processed 100 / 100 with loss 0.1487072642892599.\n",
            "Loss after epoch 2 is 0.34083696819841863. Running time: 48.34664607048035\n",
            "Training epoch 3.\n",
            "Processed 20 / 100 with loss 0.09320541806519031.\n",
            "Processed 40 / 100 with loss 0.06285532899200916.\n",
            "Processed 60 / 100 with loss 0.043929393589496615.\n",
            "Processed 80 / 100 with loss 0.02925686500966549.\n",
            "Processed 100 / 100 with loss 0.022498731687664985.\n",
            "Loss after epoch 3 is 0.05034914746880531. Running time: 72.78669619560242\n",
            "Training epoch 4.\n",
            "Processed 20 / 100 with loss 0.01712718214839697.\n",
            "Processed 40 / 100 with loss 0.0150481132324785.\n",
            "Processed 60 / 100 with loss 0.01189165161922574.\n",
            "Processed 80 / 100 with loss 0.010416010906919838.\n",
            "Processed 100 / 100 with loss 0.008695650566369294.\n",
            "Loss after epoch 4 is 0.012635721694678068. Running time: 97.45457530021667\n",
            "Training epoch 5.\n",
            "Processed 20 / 100 with loss 0.007643821067176759.\n",
            "Processed 40 / 100 with loss 0.007031734497286379.\n",
            "Processed 60 / 100 with loss 0.006956920446828008.\n",
            "Processed 80 / 100 with loss 0.005818476318381727.\n",
            "Processed 100 / 100 with loss 0.005863674147985875.\n",
            "Loss after epoch 5 is 0.006662925295531749. Running time: 122.09388780593872\n",
            "Training epoch 6.\n"
          ]
        },
        {
          "output_type": "error",
          "ename": "KeyboardInterrupt",
          "evalue": "ignored",
          "traceback": [
            "\u001b[0;31m---------------------------------------------------------------------------\u001b[0m",
            "\u001b[0;31mKeyboardInterrupt\u001b[0m                         Traceback (most recent call last)",
            "\u001b[0;32m<ipython-input-11-60f2c9bf160d>\u001b[0m in \u001b[0;36m<module>\u001b[0;34m()\u001b[0m\n\u001b[1;32m      2\u001b[0m \u001b[0;34m\u001b[0m\u001b[0m\n\u001b[1;32m      3\u001b[0m \u001b[0;32mfor\u001b[0m \u001b[0mi\u001b[0m \u001b[0;32min\u001b[0m \u001b[0mrange\u001b[0m\u001b[0;34m(\u001b[0m\u001b[0;36m0\u001b[0m\u001b[0;34m,\u001b[0m \u001b[0;36m200\u001b[0m\u001b[0;34m)\u001b[0m\u001b[0;34m:\u001b[0m\u001b[0;34m\u001b[0m\u001b[0;34m\u001b[0m\u001b[0m\n\u001b[0;32m----> 4\u001b[0;31m   \u001b[0mmodel\u001b[0m\u001b[0;34m.\u001b[0m\u001b[0mtrain\u001b[0m\u001b[0;34m(\u001b[0m\u001b[0mx_train\u001b[0m\u001b[0;34m=\u001b[0m\u001b[0;34m[\u001b[0m\u001b[0mdata\u001b[0m\u001b[0;34m[\u001b[0m\u001b[0;36m2\u001b[0m\u001b[0;34m]\u001b[0m\u001b[0;34m]\u001b[0m\u001b[0;34m,\u001b[0m \u001b[0mepochs\u001b[0m\u001b[0;34m=\u001b[0m\u001b[0;36m10\u001b[0m\u001b[0;34m,\u001b[0m \u001b[0mstop_loss\u001b[0m\u001b[0;34m=\u001b[0m\u001b[0;36m0.001\u001b[0m\u001b[0;34m,\u001b[0m \u001b[0mbatch_size\u001b[0m\u001b[0;34m=\u001b[0m\u001b[0;36m10\u001b[0m\u001b[0;34m)\u001b[0m\u001b[0;34m\u001b[0m\u001b[0;34m\u001b[0m\u001b[0m\n\u001b[0m\u001b[1;32m      5\u001b[0m   \u001b[0moutput\u001b[0m \u001b[0;34m=\u001b[0m \u001b[0mmodel\u001b[0m\u001b[0;34m.\u001b[0m\u001b[0mgenerate\u001b[0m\u001b[0;34m(\u001b[0m\u001b[0;36m1000\u001b[0m\u001b[0;34m)\u001b[0m\u001b[0;34m\u001b[0m\u001b[0;34m\u001b[0m\u001b[0m\n\u001b[1;32m      6\u001b[0m   \u001b[0mmidi\u001b[0m \u001b[0;34m=\u001b[0m \u001b[0mdata_manager\u001b[0m\u001b[0;34m.\u001b[0m\u001b[0mto_midi\u001b[0m\u001b[0;34m(\u001b[0m\u001b[0moutput\u001b[0m\u001b[0;34m)\u001b[0m\u001b[0;34m\u001b[0m\u001b[0;34m\u001b[0m\u001b[0m\n",
            "\u001b[0;32m/content/music-generation-toolbox/mgt/models/compound_word_transformer_model.py\u001b[0m in \u001b[0;36mtrain\u001b[0;34m(self, x_train, epochs, batch_size, stop_loss, batches_per_epoch, report_per_x_batches, randomly_truncate, gradient_accumulation_steps)\u001b[0m\n\u001b[1;32m    119\u001b[0m                     \u001b[0mlosses\u001b[0m \u001b[0;34m=\u001b[0m \u001b[0mself\u001b[0m\u001b[0;34m.\u001b[0m\u001b[0mmodel\u001b[0m\u001b[0;34m.\u001b[0m\u001b[0mtrain_step\u001b[0m\u001b[0;34m(\u001b[0m\u001b[0mtorch_batch\u001b[0m\u001b[0;34m)\u001b[0m\u001b[0;34m\u001b[0m\u001b[0;34m\u001b[0m\u001b[0m\n\u001b[1;32m    120\u001b[0m                     \u001b[0mloss\u001b[0m \u001b[0;34m=\u001b[0m \u001b[0;34m(\u001b[0m\u001b[0mlosses\u001b[0m\u001b[0;34m[\u001b[0m\u001b[0;36m0\u001b[0m\u001b[0;34m]\u001b[0m \u001b[0;34m+\u001b[0m \u001b[0mlosses\u001b[0m\u001b[0;34m[\u001b[0m\u001b[0;36m1\u001b[0m\u001b[0;34m]\u001b[0m \u001b[0;34m+\u001b[0m \u001b[0mlosses\u001b[0m\u001b[0;34m[\u001b[0m\u001b[0;36m2\u001b[0m\u001b[0;34m]\u001b[0m \u001b[0;34m+\u001b[0m \u001b[0mlosses\u001b[0m\u001b[0;34m[\u001b[0m\u001b[0;36m3\u001b[0m\u001b[0;34m]\u001b[0m \u001b[0;34m+\u001b[0m \u001b[0mlosses\u001b[0m\u001b[0;34m[\u001b[0m\u001b[0;36m4\u001b[0m\u001b[0;34m]\u001b[0m \u001b[0;34m+\u001b[0m \u001b[0mlosses\u001b[0m\u001b[0;34m[\u001b[0m\u001b[0;36m5\u001b[0m\u001b[0;34m]\u001b[0m \u001b[0;34m+\u001b[0m \u001b[0mlosses\u001b[0m\u001b[0;34m[\u001b[0m\u001b[0;36m6\u001b[0m\u001b[0;34m]\u001b[0m\u001b[0;34m)\u001b[0m \u001b[0;34m/\u001b[0m \u001b[0;36m7\u001b[0m\u001b[0;34m\u001b[0m\u001b[0;34m\u001b[0m\u001b[0m\n\u001b[0;32m--> 121\u001b[0;31m                     \u001b[0mloss\u001b[0m\u001b[0;34m.\u001b[0m\u001b[0mbackward\u001b[0m\u001b[0;34m(\u001b[0m\u001b[0;34m)\u001b[0m\u001b[0;34m\u001b[0m\u001b[0;34m\u001b[0m\u001b[0m\n\u001b[0m\u001b[1;32m    122\u001b[0m \u001b[0;34m\u001b[0m\u001b[0m\n\u001b[1;32m    123\u001b[0m                 \u001b[0mtorch\u001b[0m\u001b[0;34m.\u001b[0m\u001b[0mnn\u001b[0m\u001b[0;34m.\u001b[0m\u001b[0mutils\u001b[0m\u001b[0;34m.\u001b[0m\u001b[0mclip_grad_norm_\u001b[0m\u001b[0;34m(\u001b[0m\u001b[0mself\u001b[0m\u001b[0;34m.\u001b[0m\u001b[0mmodel\u001b[0m\u001b[0;34m.\u001b[0m\u001b[0mparameters\u001b[0m\u001b[0;34m(\u001b[0m\u001b[0;34m)\u001b[0m\u001b[0;34m,\u001b[0m \u001b[0;36m0.5\u001b[0m\u001b[0;34m)\u001b[0m\u001b[0;34m\u001b[0m\u001b[0;34m\u001b[0m\u001b[0m\n",
            "\u001b[0;32m/usr/local/lib/python3.7/dist-packages/torch/_tensor.py\u001b[0m in \u001b[0;36mbackward\u001b[0;34m(self, gradient, retain_graph, create_graph, inputs)\u001b[0m\n\u001b[1;32m    305\u001b[0m                 \u001b[0mcreate_graph\u001b[0m\u001b[0;34m=\u001b[0m\u001b[0mcreate_graph\u001b[0m\u001b[0;34m,\u001b[0m\u001b[0;34m\u001b[0m\u001b[0;34m\u001b[0m\u001b[0m\n\u001b[1;32m    306\u001b[0m                 inputs=inputs)\n\u001b[0;32m--> 307\u001b[0;31m         \u001b[0mtorch\u001b[0m\u001b[0;34m.\u001b[0m\u001b[0mautograd\u001b[0m\u001b[0;34m.\u001b[0m\u001b[0mbackward\u001b[0m\u001b[0;34m(\u001b[0m\u001b[0mself\u001b[0m\u001b[0;34m,\u001b[0m \u001b[0mgradient\u001b[0m\u001b[0;34m,\u001b[0m \u001b[0mretain_graph\u001b[0m\u001b[0;34m,\u001b[0m \u001b[0mcreate_graph\u001b[0m\u001b[0;34m,\u001b[0m \u001b[0minputs\u001b[0m\u001b[0;34m=\u001b[0m\u001b[0minputs\u001b[0m\u001b[0;34m)\u001b[0m\u001b[0;34m\u001b[0m\u001b[0;34m\u001b[0m\u001b[0m\n\u001b[0m\u001b[1;32m    308\u001b[0m \u001b[0;34m\u001b[0m\u001b[0m\n\u001b[1;32m    309\u001b[0m     \u001b[0;32mdef\u001b[0m \u001b[0mregister_hook\u001b[0m\u001b[0;34m(\u001b[0m\u001b[0mself\u001b[0m\u001b[0;34m,\u001b[0m \u001b[0mhook\u001b[0m\u001b[0;34m)\u001b[0m\u001b[0;34m:\u001b[0m\u001b[0;34m\u001b[0m\u001b[0;34m\u001b[0m\u001b[0m\n",
            "\u001b[0;32m/usr/local/lib/python3.7/dist-packages/torch/autograd/__init__.py\u001b[0m in \u001b[0;36mbackward\u001b[0;34m(tensors, grad_tensors, retain_graph, create_graph, grad_variables, inputs)\u001b[0m\n\u001b[1;32m    154\u001b[0m     Variable._execution_engine.run_backward(\n\u001b[1;32m    155\u001b[0m         \u001b[0mtensors\u001b[0m\u001b[0;34m,\u001b[0m \u001b[0mgrad_tensors_\u001b[0m\u001b[0;34m,\u001b[0m \u001b[0mretain_graph\u001b[0m\u001b[0;34m,\u001b[0m \u001b[0mcreate_graph\u001b[0m\u001b[0;34m,\u001b[0m \u001b[0minputs\u001b[0m\u001b[0;34m,\u001b[0m\u001b[0;34m\u001b[0m\u001b[0;34m\u001b[0m\u001b[0m\n\u001b[0;32m--> 156\u001b[0;31m         allow_unreachable=True, accumulate_grad=True)  # allow_unreachable flag\n\u001b[0m\u001b[1;32m    157\u001b[0m \u001b[0;34m\u001b[0m\u001b[0m\n\u001b[1;32m    158\u001b[0m \u001b[0;34m\u001b[0m\u001b[0m\n",
            "\u001b[0;31mKeyboardInterrupt\u001b[0m: "
          ]
        }
      ]
    },
    {
      "cell_type": "code",
      "source": [
        "output = model.generate(1000)\n",
        "midi = data_manager.to_midi(output)\n",
        "midi.save(f\"/content/sample_{i}.midi\")"
      ],
      "metadata": {
        "colab": {
          "base_uri": "https://localhost:8080/"
        },
        "id": "SsbToBSLfU10",
        "outputId": "16150bd2-bcf6-4fbb-9fe4-b91732c46988"
      },
      "execution_count": null,
      "outputs": [
        {
          "output_type": "stream",
          "name": "stdout",
          "text": [
            "Generating a new song with 1000 characters.\n",
            "------ initiate ------\n",
            "------ generate ------\n",
            "Writing midi to /content/sample_0.midi\n",
            "/content/sample_0.midi\n"
          ]
        }
      ]
    }
  ]
}